{
 "cells": [
  {
   "cell_type": "markdown",
   "metadata": {},
   "source": [
    "# Transfer learning for text classification"
   ]
  },
  {
   "cell_type": "code",
   "execution_count": null,
   "metadata": {},
   "outputs": [],
   "source": [
    "import torch\n",
    "from transformers import BertTokenizer, BertForSequenceClassification\n",
    "\n",
    "import torch.nn as nn\n",
    "import torch.optim as optim"
   ]
  },
  {
   "cell_type": "markdown",
   "metadata": {},
   "source": [
    "## Transfer learning using BERT"
   ]
  },
  {
   "cell_type": "code",
   "execution_count": null,
   "metadata": {},
   "outputs": [],
   "source": [
    "texts = [\"I love this!\",\n",
    "\"This is terrible.\",\n",
    "\"Amazing experience!\",\n",
    "\"Not my cup of tea.\"]\n",
    "labels = [1, 0, 1, 0]\n",
    "\n",
    "tokenizer = BertTokenizer.from_pretrained('bert-base-uncased')\n",
    "model = BertForSequenceClassification.from_pretrained('bert-base-uncased', num_labels=2)\n",
    "inputs = tokenizer(texts, padding=True, truncation=True, return_tensors=\"pt\", max_length=32)\n",
    "inputs[\"labels\"] = torch.tensor(labels)"
   ]
  },
  {
   "cell_type": "code",
   "execution_count": null,
   "metadata": {},
   "outputs": [],
   "source": [
    "optimizer = torch.optim.AdamW(model.parameters(), lr=0.00001)\n",
    "model.train()\n",
    "for epoch in range(1):\n",
    "  outputs = model(**inputs)\n",
    "  loss = outputs.loss\n",
    "  loss.backward()\n",
    "  optimizer.step()\n",
    "  optimizer.zero_grad()\n",
    "  print(f\"Epoch: {epoch+1}, Loss: {loss.item()}\")"
   ]
  },
  {
   "cell_type": "markdown",
   "metadata": {},
   "source": [
    "## Evaluating the BERT model"
   ]
  },
  {
   "cell_type": "code",
   "execution_count": null,
   "metadata": {},
   "outputs": [],
   "source": [
    "text = \"I had an awesome day!\"\n",
    "input_eval = tokenizer(text, return_tensors=\"pt\", truncation=True, padding=True, max_length=128)\n",
    "outputs_eval = model(**input_eval)\n",
    "predictions = torch.nn.functional.softmax(outputs_eval.logits, dim=-1)\n",
    "predicted_label = 'positive' if torch.argmax(predictions) > 0 else 'negative'\n",
    "print(f\"Text: {text}\\nSentiment: {predicted_label}\")"
   ]
  },
  {
   "cell_type": "markdown",
   "metadata": {},
   "source": [
    "# Transformers for text processing"
   ]
  },
  {
   "cell_type": "markdown",
   "metadata": {},
   "source": [
    "## Creating a transformer model"
   ]
  },
  {
   "cell_type": "code",
   "execution_count": null,
   "metadata": {},
   "outputs": [],
   "source": [
    "sentences = [\"I love this product\", \"This is terrible\", \"Could be better\", \"This is the best\"]\n",
    "labels = [1, 0, 0, 1]\n",
    "train_sentences = sentences[:3]\n",
    "train_labels = labels[:3]\n",
    "test_sentences = sentences[3:]\n",
    "test_labels = labels[3:]"
   ]
  },
  {
   "cell_type": "code",
   "execution_count": null,
   "metadata": {},
   "outputs": [],
   "source": [
    "class TransformerEncoder(nn.Module):\n",
    "  def __init__(self, embed_size, heads, num_layers, dropout):\n",
    "    super(TransformerEncoder, self).__init__()\n",
    "    # Initialize the encoder \n",
    "    self.encoder = nn.TransformerEncoder(\n",
    "        nn.TransformerEncoderLayer(d_model=embed_size, nhead=heads),\n",
    "        num_layers=num_layers)\n",
    "    # Define the fully connected layer\n",
    "    self.fc = nn.Linear(embed_size, 2)\n",
    "\n",
    "  def forward(self, x):\n",
    "    # Pass the input through the transformer encoder \n",
    "    x = self.encoder(x)\n",
    "    x = x.mean(dim=1) \n",
    "    return self.fc(x)\n",
    "\n",
    "model = TransformerEncoder(embed_size=512, heads=8, num_layers=3, dropout=0.5)\n",
    "optimizer = optim.Adam(model.parameters(), lr=1e-3)\n",
    "criterion = nn.CrossEntropyLoss()"
   ]
  },
  {
   "cell_type": "markdown",
   "metadata": {},
   "source": [
    "## Training and testing the transformer model"
   ]
  },
  {
   "cell_type": "code",
   "execution_count": null,
   "metadata": {},
   "outputs": [],
   "source": [
    "for epoch in range(5):  \n",
    "  for sentence, label in zip(train_sentences, train_labels):\n",
    "    # Split the sentences into tokens and stack the embeddings\n",
    "    tokens = sentence.split()\n",
    "    data = torch.stack([token_embeddings[token] for token in tokens], dim=1)\n",
    "    output = model(data)\n",
    "    loss = criterion(output, torch.tensor([label]))\n",
    "    # Zero the gradients and perform a backward pass\n",
    "    optimizer.zero_grad()\n",
    "    loss.backward()\n",
    "    optimizer.step()\n",
    "    print(f\"Epoch {epoch}, Loss: {loss.item()}\")"
   ]
  },
  {
   "cell_type": "code",
   "execution_count": null,
   "metadata": {},
   "outputs": [],
   "source": [
    "def predict(sentence):\n",
    "  model.eval()\n",
    "  # Deactivate the gradient computations and get the sentiment prediction.\n",
    "  with torch.no_grad():\n",
    "    tokens = sentence.split()\n",
    "    data = torch.stack([token_embeddings.get(token, torch.rand((1, 512))) for token in tokens], dim=1)\n",
    "    output = model(data)\n",
    "    predicted = torch.argmax(output, dim=1)\n",
    "    return \"Positive\" if predicted.item() == 1 else \"Negative\"\n",
    "\n",
    "sample_sentence = \"This product can be better\"\n",
    "print(f\"'{sample_sentence}' is {predict(sample_sentence)}\")"
   ]
  },
  {
   "cell_type": "markdown",
   "metadata": {},
   "source": [
    "# Attention mechanisms for text processing"
   ]
  },
  {
   "cell_type": "markdown",
   "metadata": {},
   "source": [
    "## Creating a RNN model with attention"
   ]
  },
  {
   "cell_type": "code",
   "execution_count": null,
   "metadata": {},
   "outputs": [],
   "source": [
    "data = [\"the cat sat on the mat\"]\n",
    "vocab = set(' '.join(data).split())\n",
    "word_to_ix = {word: i for i, word in enumerate(vocab)}\n",
    "ix_to_word = {i: word for word, i in word_to_ix.items()}\n",
    "pairs = [sentence.split() for sentence in data]\n",
    "input_data = [[word_to_ix[word] for word in sentence[:-1]] for sentence in pairs]\n",
    "target_data = [word_to_ix[sentence[-1]] for sentence in pairs]\n",
    "inputs = [torch.tensor(seq, dtype=torch.long) for seq in input_data]\n",
    "targets = torch.tensor(target_data, dtype=torch.long)"
   ]
  },
  {
   "cell_type": "code",
   "execution_count": null,
   "metadata": {},
   "outputs": [],
   "source": [
    "embedding_dim = 10\n",
    "hidden_dim = 16\n",
    "\n",
    "vocab_size = len(vocab)\n",
    "\n",
    "class RNNWithAttentionModel(nn.Module):\n",
    "  def __init__(self):\n",
    "    super(RNNWithAttentionModel, self).__init__()\n",
    "    # Create an embedding layer for the vocabulary\n",
    "    self.embeddings = nn.Embedding(vocab_size, embedding_dim)\n",
    "    self.rnn = nn.RNN(embedding_dim, hidden_dim, batch_first=True)\n",
    "    # Apply a linear transformation to get the attention scores\n",
    "    self.attention = nn.Linear(hidden_dim, 1)\n",
    "    self.fc = nn.Linear(hidden_dim, vocab_size)\n",
    "  def forward(self, x):\n",
    "    x = self.embeddings(x)\n",
    "    out, _ = self.rnn(x)\n",
    "    #  Get the attention weights\n",
    "    attn_weights = torch.nn.functional.softmax(self.attention(out).squeeze(2), dim=1)\n",
    "    # Compute the context vector \n",
    "    context = torch.sum(attn_weights.unsqueeze(2) * out, dim=1)\n",
    "    out = self.fc(context)\n",
    "    return out\n",
    "      \n",
    "attention_model = RNNWithAttentionModel()\n",
    "optimizer = torch.optim.Adam(attention_model.parameters(), lr=0.01)\n",
    "criterion = nn.CrossEntropyLoss()\n",
    "print(\"Model Instantiated\")"
   ]
  },
  {
   "cell_type": "markdown",
   "metadata": {},
   "source": [
    "## Training and testing the RNN model with attention"
   ]
  },
  {
   "cell_type": "code",
   "execution_count": null,
   "metadata": {},
   "outputs": [],
   "source": [
    "criterion = nn.CrossEntropyLoss()\n",
    "attention_model = RNNWithAttentionModel()\n",
    "optimizer = torch.optim.Adam(attention_model.parameters(), lr=0.01)\n",
    "epochs = 300\n",
    "\n",
    "def pad_sequences(batch):\n",
    "  max_len = max([len(seq) for seq in batch])\n",
    "  return torch.stack([torch.cat([seq, torch.zeros(max_len-len(seq)).long()]) for seq in batch])"
   ]
  },
  {
   "cell_type": "code",
   "execution_count": null,
   "metadata": {},
   "outputs": [],
   "source": [
    "for epoch in range(epochs):\n",
    "  attention_model.train()\n",
    "  optimizer.zero_grad()\n",
    "  padded_inputs = pad_sequences(inputs)\n",
    "  outputs = attention_model(padded_inputs)\n",
    "  loss = criterion(outputs, targets)\n",
    "  loss.backward()\n",
    "  optimizer.step()"
   ]
  },
  {
   "cell_type": "code",
   "execution_count": null,
   "metadata": {},
   "outputs": [],
   "source": [
    "for input_seq, target in zip(input_data, target_data):\n",
    "  input_test = torch.tensor(input_seq, dtype=torch.long).unsqueeze(0)\n",
    "\n",
    "  attention_model.eval()\n",
    "  attention_output = attention_model(input_test)\n",
    "  # Extract the word with the highest prediction score\n",
    "  attention_prediction = ix_to_word[torch.argmax(attention_output).item()]\n",
    "\n",
    "  print(f\"\\nInput: {' '.join([ix_to_word[ix] for ix in input_seq])}\")\n",
    "  print(f\"Target: {ix_to_word[target]}\")\n",
    "  print(f\"RNN with Attention prediction: {attention_prediction}\")"
   ]
  }
 ],
 "metadata": {
  "kernelspec": {
   "display_name": "deep-learning-in-python",
   "language": "python",
   "name": "python3"
  },
  "language_info": {
   "codemirror_mode": {
    "name": "ipython",
    "version": 3
   },
   "file_extension": ".py",
   "mimetype": "text/x-python",
   "name": "python",
   "nbconvert_exporter": "python",
   "pygments_lexer": "ipython3",
   "version": "3.11.7"
  }
 },
 "nbformat": 4,
 "nbformat_minor": 2
}
