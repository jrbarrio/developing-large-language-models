{
 "cells": [
  {
   "cell_type": "markdown",
   "metadata": {},
   "source": [
    "# Attention mechanisms and positional encoding"
   ]
  },
  {
   "cell_type": "code",
   "execution_count": 5,
   "metadata": {},
   "outputs": [],
   "source": [
    "import torch\n",
    "import torch.nn as nn\n",
    "import torch.nn.functional as F\n",
    "import math"
   ]
  },
  {
   "cell_type": "markdown",
   "metadata": {},
   "source": [
    "## Hands-on positional encoding"
   ]
  },
  {
   "cell_type": "code",
   "execution_count": 6,
   "metadata": {},
   "outputs": [],
   "source": [
    "class PositionalEncoder(nn.Module):\n",
    "  def __init__(self, d_model, max_seq_length=512):\n",
    "    super(PositionalEncoder, self).__init__()\n",
    "    self.d_model = d_model\n",
    "    self.max_seq_length = max_seq_length\n",
    "    pe = torch.zeros(max_seq_length, d_model)\n",
    "    position = torch.arange(0, max_seq_length, dtype=torch.float).unsqueeze(1)\n",
    "    div_term = torch.exp(torch.arange(0, d_model, 2, dtype = torch.float) * -(math.log(10000.0) / d_model))\n",
    "    pe[:, 0::2] = torch.sin(position * div_term)\n",
    "    pe[:, 1::2] = torch.cos(position * div_term)\n",
    "    pe = pe.unsqueeze(0)\n",
    "    self.register_buffer('pe', pe)\n",
    "    \n",
    "  def forward(self, x):\n",
    "    x = x + self.pe[:, :x.size(1)]\n",
    "    return x"
   ]
  },
  {
   "cell_type": "markdown",
   "metadata": {},
   "source": [
    "## Implementing multi-headed self-attention"
   ]
  },
  {
   "cell_type": "code",
   "execution_count": 7,
   "metadata": {},
   "outputs": [],
   "source": [
    "class MultiHeadAttention(nn.Module):\n",
    "  def __init__(self, d_model, num_heads):\n",
    "    super(MultiHeadAttention, self).__init__()\n",
    "    self.num_heads = num_heads\n",
    "    self.d_model = d_model\n",
    "    self.head_dim = d_model // num_heads\n",
    "    self.query_linear = nn.Linear(d_model, d_model)\n",
    "    self.key_linear = nn.Linear(d_model, d_model)\n",
    "    self.value_linear = nn.Linear(d_model, d_model)\n",
    "    self.output_linear = nn.Linear(d_model, d_model)\n",
    "\n",
    "    def split_heads(self, x, batch_size):\n",
    "      x = x.view(batch_size, -1, self.num_heads, self.head_dim)\n",
    "      return x.permute(0, 2, 1, 3).contiguous().view(batch_size * self.num_heads, -1, self.head_dim)\n",
    "\n",
    "    def compute_attention(self, query, key, mask=None):\n",
    "      scores = torch.matmul(query, key.permute(1, 2, 0))\n",
    "      if mask is not None:\n",
    "        scores = scores.masked_fill(mask == 0, float(\"-1e9\"))\n",
    "      attention_weights = F.softmax(scores, dim=-1)\n",
    "      return attention_weights\n",
    "    \n",
    "    def forward(self, query, key, value, mask=None):\n",
    "      batch_size = query.size(0)\n",
    "      query = self.split_heads(self.query_linear(query), batch_size)\n",
    "      key = self.split_heads(self.key_linear(key), batch_size)\n",
    "      value = self.split_heads(self.value_linear(value), batch_size)\n",
    "      attention_weights = self.compute_attention(query, key, mask)\n",
    "      output = torch.matmul(attention_weights, value)\n",
    "      output = output.view(batch_size, self.num_heads, -1, self.head_dim).permute(0, 2, 1, 3).contiguous().view(batch_size, -1, self.d_model)\n",
    "      return self.output_linear(output)"
   ]
  }
 ],
 "metadata": {
  "kernelspec": {
   "display_name": "developing-large-language-models",
   "language": "python",
   "name": "python3"
  },
  "language_info": {
   "codemirror_mode": {
    "name": "ipython",
    "version": 3
   },
   "file_extension": ".py",
   "mimetype": "text/x-python",
   "name": "python",
   "nbconvert_exporter": "python",
   "pygments_lexer": "ipython3",
   "version": "3.11.7"
  }
 },
 "nbformat": 4,
 "nbformat_minor": 2
}
